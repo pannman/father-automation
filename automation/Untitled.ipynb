{
 "cells": [
  {
   "cell_type": "code",
   "execution_count": 1,
   "metadata": {},
   "outputs": [
    {
     "name": "stdout",
     "output_type": "stream",
     "text": [
      "https://qiita.com/\n"
     ]
    }
   ],
   "source": [
    "from selenium import webdriver\n",
    "\n",
    "# Chrome のオプションを設定する\n",
    "options = webdriver.ChromeOptions()\n",
    "\n",
    "# Selenium Server に接続する\n",
    "driver = webdriver.Remote(\n",
    "    command_executor='chrome_driver:4444/wd/hub', # コンテナ名を指定\n",
    "#     command_executor='192.168.48.2:4444/wd/hub', # もしくはIPアドレスを指定\n",
    "    options=options,\n",
    ")\n",
    "\n",
    "# Selenium 経由でブラウザを操作する\n",
    "driver.get('https://qiita.com')\n",
    "print(driver.current_url)\n",
    "\n",
    "# ブラウザを終了する\n",
    "driver.quit()"
   ]
  },
  {
   "cell_type": "code",
   "execution_count": null,
   "metadata": {},
   "outputs": [],
   "source": []
  }
 ],
 "metadata": {
  "kernelspec": {
   "display_name": "Python 3",
   "language": "python",
   "name": "python3"
  },
  "language_info": {
   "codemirror_mode": {
    "name": "ipython",
    "version": 3
   },
   "file_extension": ".py",
   "mimetype": "text/x-python",
   "name": "python",
   "nbconvert_exporter": "python",
   "pygments_lexer": "ipython3",
   "version": "3.8.3"
  }
 },
 "nbformat": 4,
 "nbformat_minor": 4
}
