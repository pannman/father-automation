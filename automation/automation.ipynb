{
 "cells": [
  {
   "cell_type": "code",
   "execution_count": 27,
   "metadata": {},
   "outputs": [],
   "source": [
    "from selenium import webdriver\n",
    "from selenium.webdriver.common.keys import Keys\n",
    "from selenium.webdriver.chrome.options import Options\n",
    "from selenium.webdriver.support.ui import WebDriverWait\n",
    "from selenium.webdriver.support import expected_conditions as EC\n",
    "from selenium.webdriver.common.by import By\n",
    "from selenium.common.exceptions import TimeoutException\n",
    "import time"
   ]
  },
  {
   "cell_type": "code",
   "execution_count": 32,
   "metadata": {},
   "outputs": [
    {
     "name": "stdout",
     "output_type": "stream",
     "text": [
      "https://fc2.com/login.php?ref=blog\n"
     ]
    }
   ],
   "source": [
    "options = Options()\n",
    "\n",
    "driver = webdriver.Remote(\n",
    "    command_executor='chrome_driver:4444/wd/hub', \n",
    "    options=options,\n",
    ")\n",
    "driver.implicitly_wait(10)\n",
    "\n",
    "driver.get('https://fc2.com/login.php?ref=blog')\n",
    "assert 'FC2' in driver.title\n",
    "# time.sleep(10)\n",
    "\n",
    "# mail = driver.find_element_by_id(\"email\")\n",
    "# password = driver.find_element_by_id(\"pass\")\n",
    "# mail.send_keys(\"yuki.0223.ooya@i.softbank.jp\")\n",
    "# password.send_keys(\"f20011018\")\n",
    "\n",
    "# element.send_keys(Keys.ENTER)\n",
    "\n",
    "print(driver.current_url)\n",
    "\n",
    "# # ブラウザを終了する\n",
    "driver.quit()"
   ]
  },
  {
   "cell_type": "code",
   "execution_count": null,
   "metadata": {},
   "outputs": [],
   "source": []
  }
 ],
 "metadata": {
  "kernelspec": {
   "display_name": "Python 3",
   "language": "python",
   "name": "python3"
  },
  "language_info": {
   "codemirror_mode": {
    "name": "ipython",
    "version": 3
   },
   "file_extension": ".py",
   "mimetype": "text/x-python",
   "name": "python",
   "nbconvert_exporter": "python",
   "pygments_lexer": "ipython3",
   "version": "3.8.3"
  }
 },
 "nbformat": 4,
 "nbformat_minor": 4
}
